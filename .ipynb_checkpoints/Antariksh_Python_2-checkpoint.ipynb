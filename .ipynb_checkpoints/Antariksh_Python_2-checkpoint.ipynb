{
 "cells": [
  {
   "cell_type": "code",
   "execution_count": 1,
   "id": "485f2150-9cd7-4dea-89e6-270618558b2e",
   "metadata": {},
   "outputs": [
    {
     "name": "stdout",
     "output_type": "stream",
     "text": [
      "[1, 2, 3, 4, 5]\n"
     ]
    }
   ],
   "source": [
    "#Functions k questions\n",
    "# Question 1: Write a function that takes a list and returns the list with unique elements.\n",
    "# Logic: Use a set to filter out duplicates and return the unique elements as a list.\n",
    "\n",
    "def unique_elements(lst):\n",
    "    return list(set(lst))\n",
    "\n",
    "print(unique_elements([1, 2, 2, 3, 4, 4, 5]))\n"
   ]
  },
  {
   "cell_type": "code",
   "execution_count": 2,
   "id": "04fe7b30-050e-4bba-9c1a-84e46a6b168f",
   "metadata": {},
   "outputs": [
    {
     "name": "stdout",
     "output_type": "stream",
     "text": [
      "16\n"
     ]
    }
   ],
   "source": [
    "# Question 2: Write a lambda function to find the square of a number.\n",
    "# Logic: Use lambda to define an anonymous function that squares the input number.\n",
    "\n",
    "square = lambda x: x ** 2\n",
    "print(square(4))\n"
   ]
  },
  {
   "cell_type": "code",
   "execution_count": 3,
   "id": "aa94dbe6-b3fb-4b7a-93d4-02fb25070e36",
   "metadata": {},
   "outputs": [
    {
     "name": "stdout",
     "output_type": "stream",
     "text": [
      "15\n"
     ]
    }
   ],
   "source": [
    "# Question 3: Write a function that accepts variable number of arguments and returns their sum.\n",
    "# Logic: Use *args to accept variable number of arguments and sum them up.\n",
    "\n",
    "def sum_args(*args):\n",
    "    return sum(args)\n",
    "\n",
    "print(sum_args(1, 2, 3, 4, 5))\n"
   ]
  },
  {
   "cell_type": "code",
   "execution_count": 6,
   "id": "cb73a623-45ab-4dd4-b535-3a3669e526d2",
   "metadata": {},
   "outputs": [
    {
     "name": "stdout",
     "output_type": "stream",
     "text": [
      "name=Devansh, age=18, city=Thane\n"
     ]
    }
   ],
   "source": [
    "# Question 4: Write a function that accepts keyword arguments and returns a formatted string.\n",
    "# Logic: Use **kwargs to accept keyword arguments and format them into a string.\n",
    "\n",
    "def format_kwargs(**kwargs):\n",
    "    return ', '.join(f'{k}={v}' for k, v in kwargs.items())\n",
    "\n",
    "print(format_kwargs(name=\"Devansh\", age=18, city=\"Thane\"))\n"
   ]
  },
  {
   "cell_type": "code",
   "execution_count": 7,
   "id": "d1d241b5-88e0-4460-a973-ddc6aa27e300",
   "metadata": {},
   "outputs": [
    {
     "name": "stdout",
     "output_type": "stream",
     "text": [
      "[2, 4, 6, 8]\n"
     ]
    }
   ],
   "source": [
    "# Question 5: Write a higher-order function that applies a given function to a list of elements.\n",
    "# Logic: Use map to apply the given function to each element in the list.\n",
    "\n",
    "def apply_function(lst, func):\n",
    "    return list(map(func, lst))\n",
    "\n",
    "print(apply_function([1, 2, 3, 4], lambda x: x * 2))\n"
   ]
  },
  {
   "cell_type": "code",
   "execution_count": 8,
   "id": "04983d42-231f-48e5-8658-060a3484b388",
   "metadata": {},
   "outputs": [
    {
     "name": "stdout",
     "output_type": "stream",
     "text": [
      "15\n"
     ]
    }
   ],
   "source": [
    "# Question 6: Write a function that returns another function to multiply a number by a given factor.\n",
    "# Logic: Use closures to return a function that multiplies by the given factor.\n",
    "\n",
    "def multiplier(factor):\n",
    "    def multiply(n):\n",
    "        return n * factor\n",
    "    return multiply\n",
    "\n",
    "times_three = multiplier(3)\n",
    "print(times_three(5))\n"
   ]
  },
  {
   "cell_type": "code",
   "execution_count": 27,
   "id": "d05f398d-91f8-4e71-8dd1-8d31e013d6c1",
   "metadata": {},
   "outputs": [
    {
     "name": "stdout",
     "output_type": "stream",
     "text": [
      "[0, 2, 4, 6, 8]\n"
     ]
    }
   ],
   "source": [
    "# Question 7: Write a generator function to yield the first n even numbers.\n",
    "# Logic: Use a generator to yield even numbers up to the nth even number. Yield is like return now.\n",
    "\n",
    "def even_numbers(n):\n",
    "    for i in range(n):\n",
    "        yield 2 * i\n",
    "\n",
    "print(list(even_numbers(5)))\n"
   ]
  },
  {
   "cell_type": "code",
   "execution_count": 28,
   "id": "d410e432-4a63-4855-8ea8-d7a0e6027a95",
   "metadata": {},
   "outputs": [
    {
     "name": "stdout",
     "output_type": "stream",
     "text": [
      "220\n"
     ]
    }
   ],
   "source": [
    "# Question 8: Given a list of integers, use map to create a new list where each element is the square of the original element,\n",
    "# then use filter to retain only the even squares, and finally use reduce to calculate the sum of these even squares.\n",
    "# Logic: Use map to square each element, filter to keep only even squares, and reduce to sum the even squares.\n",
    "\n",
    "from functools import reduce\n",
    "\n",
    "numbers = [1, 2, 3, 4, 5, 6, 7, 8, 9, 10]\n",
    "\n",
    "# Step 1: Use map to create a list of squares\n",
    "squares = list(map(lambda x: x ** 2, numbers))\n",
    "\n",
    "# Step 2: Use filter to retain only even squares\n",
    "even_squares = list(filter(lambda x: x % 2 == 0, squares))\n",
    "\n",
    "# Step 3: Use reduce to calculate the sum of even squares\n",
    "sum_even_squares = reduce(lambda x, y: x + y, even_squares)\n",
    "\n",
    "print(sum_even_squares)  # Output should be the sum of squares of 2, 4, 6, 8, 10\n"
   ]
  },
  {
   "cell_type": "code",
   "execution_count": 11,
   "id": "33b1f512-d581-4096-b87b-300361a05c9d",
   "metadata": {},
   "outputs": [
    {
     "name": "stdout",
     "output_type": "stream",
     "text": [
      "4.0\n"
     ]
    }
   ],
   "source": [
    "# Modules k Questions\n",
    "\n",
    "# Question 1: Write a Python script to import the math module and calculate the square root of a number.\n",
    "# Logic: Use the sqrt() function from the math module to calculate the square root.\n",
    "\n",
    "import math\n",
    "\n",
    "print(math.sqrt(16))\n"
   ]
  },
  {
   "cell_type": "code",
   "execution_count": 12,
   "id": "77ab1fa2-4585-4297-a45a-86e36344ced7",
   "metadata": {},
   "outputs": [
    {
     "name": "stdout",
     "output_type": "stream",
     "text": [
      "2024-06-28 00:13:54.283144\n"
     ]
    }
   ],
   "source": [
    "# Question 2: Write a Python script to import the datetime module and get the current date and time.\n",
    "# Logic: Use the datetime.now() function to get the current date and time.\n",
    "\n",
    "import datetime\n",
    "\n",
    "print(datetime.datetime.now())\n"
   ]
  },
  {
   "cell_type": "code",
   "execution_count": 13,
   "id": "ac4ad5e8-6cd9-4aa3-8fbf-517687dd8ac9",
   "metadata": {},
   "outputs": [
    {
     "name": "stdout",
     "output_type": "stream",
     "text": [
      "1\n"
     ]
    }
   ],
   "source": [
    "# Question 3: Write a Python script to import a specific function from a module.\n",
    "# Logic: Use the from-import statement to import a specific function and use it.\n",
    "\n",
    "from random import randint\n",
    "\n",
    "print(randint(1, 10))\n"
   ]
  },
  {
   "cell_type": "code",
   "execution_count": 14,
   "id": "e697a53f-a447-4867-99ad-7bec03a3ab99",
   "metadata": {},
   "outputs": [
    {
     "name": "stdout",
     "output_type": "stream",
     "text": [
      "['__doc__', '__file__', '__loader__', '__name__', '__package__', '__spec__', 'acos', 'acosh', 'asin', 'asinh', 'atan', 'atan2', 'atanh', 'cbrt', 'ceil', 'comb', 'copysign', 'cos', 'cosh', 'degrees', 'dist', 'e', 'erf', 'erfc', 'exp', 'exp2', 'expm1', 'fabs', 'factorial', 'floor', 'fmod', 'frexp', 'fsum', 'gamma', 'gcd', 'hypot', 'inf', 'isclose', 'isfinite', 'isinf', 'isnan', 'isqrt', 'lcm', 'ldexp', 'lgamma', 'log', 'log10', 'log1p', 'log2', 'modf', 'nan', 'nextafter', 'perm', 'pi', 'pow', 'prod', 'radians', 'remainder', 'sin', 'sinh', 'sqrt', 'tan', 'tanh', 'tau', 'trunc', 'ulp']\n"
     ]
    }
   ],
   "source": [
    "# Question 4: Write a Python script to list all the functions and variables in a module.\n",
    "# Logic: Use the dir() function to list all the attributes of a module.\n",
    "\n",
    "import math\n",
    "\n",
    "print(dir(math))\n"
   ]
  },
  {
   "cell_type": "code",
   "execution_count": 16,
   "id": "308f68ec-de49-4a57-9151-ec74ab16f58e",
   "metadata": {},
   "outputs": [
    {
     "name": "stdout",
     "output_type": "stream",
     "text": [
      "150\n",
      "120\n",
      "Paise nhi hai bhai\n"
     ]
    }
   ],
   "source": [
    "# OOPs k Questions\n",
    "\n",
    "# Question 1: Write a Python class to represent a simple bank account.\n",
    "# Logic: We have to just write a class with attributes for balance and methods for deposit and withdrawal.\n",
    "\n",
    "class BankAccount:\n",
    "    def __init__(self, balance=0):\n",
    "        self.balance = balance\n",
    "    \n",
    "    def deposit(self, amount):\n",
    "        self.balance += amount\n",
    "        return self.balance\n",
    "    \n",
    "    def withdraw(self, amount):\n",
    "        if amount > self.balance:\n",
    "            return \"Paise nhi hai bhai\"\n",
    "        else:\n",
    "            self.balance -= amount\n",
    "            return self.balance\n",
    "\n",
    "account = BankAccount(100)\n",
    "print(account.deposit(50))\n",
    "print(account.withdraw(30))\n",
    "print(account.withdraw(150))\n"
   ]
  },
  {
   "cell_type": "code",
   "execution_count": 17,
   "id": "79a97e63-496f-4b44-9bd5-33d66716d543",
   "metadata": {},
   "outputs": [
    {
     "name": "stdout",
     "output_type": "stream",
     "text": [
      "28\n",
      "22\n"
     ]
    }
   ],
   "source": [
    "# Question 2: Write a Python class to represent a Rectangle.\n",
    "# Logic: Define a class with attributes for length and width, and methods to calculate area and perimeter. Have solved this before in Java\n",
    "\n",
    "class Rectangle:\n",
    "    def __init__(self, length, width):\n",
    "        self.length = length\n",
    "        self.width = width\n",
    "    \n",
    "    def area(self):\n",
    "        return self.length * self.width\n",
    "    \n",
    "    def perimeter(self):\n",
    "        return 2 * (self.length + self.width)\n",
    "\n",
    "rect = Rectangle(4, 7)\n",
    "print(rect.area())\n",
    "print(rect.perimeter())\n"
   ]
  },
  {
   "cell_type": "code",
   "execution_count": 18,
   "id": "a8559ce9-c32b-4ba2-9f64-f138f3481f14",
   "metadata": {},
   "outputs": [
    {
     "name": "stdout",
     "output_type": "stream",
     "text": [
      "Tommy says Bhow!\n"
     ]
    }
   ],
   "source": [
    "# Question 3: Write a Python class to demonstrate inheritance.\n",
    "# Logic: Define a base class and a derived class that inherits from the base class.\n",
    "\n",
    "class Animal:\n",
    "    def __init__(self, name):\n",
    "        self.name = name\n",
    "    \n",
    "    def speak(self):\n",
    "        pass\n",
    "\n",
    "class Dog(Animal):\n",
    "    def speak(self):\n",
    "        return f\"{self.name} says Bhow!\"\n",
    "\n",
    "dog = Dog(\"Tommy\")\n",
    "print(dog.speak())\n"
   ]
  },
  {
   "cell_type": "code",
   "execution_count": 24,
   "id": "0fd46436-4e77-4436-b089-98427da3d2e0",
   "metadata": {},
   "outputs": [
    {
     "name": "stdout",
     "output_type": "stream",
     "text": [
      "Car ka fuel efficiency\n"
     ]
    }
   ],
   "source": [
    "# Question 4: Write a Python class to demonstrate method overriding.\n",
    "# Logic: Define a base class and a derived class that overrides a method from the base class.\n",
    "\n",
    "class Vehicle:\n",
    "    def fuel_efficiency(self):\n",
    "        return \"Vehicle ka fuel efficiency\"\n",
    "\n",
    "class Car(Vehicle):\n",
    "    def fuel_efficiency(self):\n",
    "        return \"Car ka fuel efficiency\"\n",
    "\n",
    "car = Car()\n",
    "print(car.fuel_efficiency())\n"
   ]
  },
  {
   "cell_type": "code",
   "execution_count": 23,
   "id": "f7a53ad1-db9f-4046-947e-f072a86c247c",
   "metadata": {},
   "outputs": [
    {
     "name": "stdout",
     "output_type": "stream",
     "text": [
      "Mai class variable\n",
      "Mai instance variable 1\n",
      "Mai instance variable 2\n"
     ]
    }
   ],
   "source": [
    "# Question 5: Write a Python class to demonstrate class variables and instance variables.\n",
    "# Logic: Define a class with both class variables and instance variables, and show their differences.\n",
    "\n",
    "class Example:\n",
    "    class_var = \"Mai class variable\"\n",
    "\n",
    "    def __init__(self, instance_var):\n",
    "        self.instance_var = instance_var\n",
    "\n",
    "ex1 = Example(\"Mai instance variable 1\")\n",
    "ex2 = Example(\"Mai instance variable 2\")\n",
    "\n",
    "print(Example.class_var)\n",
    "print(ex1.instance_var)\n",
    "print(ex2.instance_var)\n"
   ]
  },
  {
   "cell_type": "code",
   "execution_count": 25,
   "id": "31b90bf0-03b4-46fa-9f59-370ed3ef70c8",
   "metadata": {},
   "outputs": [
    {
     "name": "stdout",
     "output_type": "stream",
     "text": [
      "Ye class variable\n",
      "Ye static method\n"
     ]
    }
   ],
   "source": [
    "# Question 6: Write a Python class to demonstrate the use of class methods and static methods.\n",
    "# Logic: Define a class with class methods and static methods, and show their usage.\n",
    "\n",
    "class MyClass:\n",
    "    class_variable = \"class variable\"\n",
    "\n",
    "    @classmethod\n",
    "    def class_method(cls):\n",
    "        return f\"Ye {cls.class_variable}\"\n",
    "\n",
    "    @staticmethod\n",
    "    def static_method():\n",
    "        return \"Ye static method\"\n",
    "\n",
    "print(MyClass.class_method())\n",
    "print(MyClass.static_method())\n"
   ]
  },
  {
   "cell_type": "code",
   "execution_count": 26,
   "id": "1a0f7558-65da-417a-a117-1eec6cac0802",
   "metadata": {},
   "outputs": [
    {
     "name": "stdout",
     "output_type": "stream",
     "text": [
      "Devansh\n",
      "Raulo\n"
     ]
    }
   ],
   "source": [
    "# Question 7: Write a Python class to demonstrate the use of properties.\n",
    "# Logic: Use the @property decorator to define getters and setters for a private attribute.\n",
    "\n",
    "class Person:\n",
    "    def __init__(self, name):\n",
    "        self._name = name\n",
    "\n",
    "    @property\n",
    "    def name(self):\n",
    "        return self._name\n",
    "\n",
    "    @name.setter\n",
    "    def name(self, value):\n",
    "        self._name = value\n",
    "\n",
    "person = Person(\"Devansh\")\n",
    "print(person.name)\n",
    "person.name = \"Raulo\"\n",
    "print(person.name)\n"
   ]
  },
  {
   "cell_type": "code",
   "execution_count": null,
   "id": "ec58c0ad-dbe3-48f0-bda8-2abbf36b465d",
   "metadata": {},
   "outputs": [],
   "source": [
    "# Question 8: Demonstrate the use of abstraction by defining an abstract base class with abstract methods.\n",
    "# Logic: Use the abc module to define an abstract base class with abstract methods, and create concrete subclasses that\n",
    "# implement these methods.\n",
    "\n",
    "from abc import ABC, abstractmethod\n",
    "\n",
    "class Shape(ABC):\n",
    "    @abstractmethod\n",
    "    def area(self):\n",
    "        pass\n",
    "    \n",
    "    @abstractmethod\n",
    "    def perimeter(self):\n",
    "        pass\n",
    "\n",
    "class Rectangle(Shape):\n",
    "    def __init__(self, width, height):\n",
    "        self.width = width\n",
    "        self.height = height\n",
    "\n",
    "    def area(self):\n",
    "        return self.width * self.height\n",
    "    \n",
    "    def perimeter(self):\n",
    "        return 2 * (self.width + self.height)\n",
    "\n",
    "class Circle(Shape):\n",
    "    def __init__(self, radius):\n",
    "        self.radius = radius\n",
    "\n",
    "    def area(self):\n",
    "        return 3.14 * self.radius ** 2\n",
    "    \n",
    "    def perimeter(self):\n",
    "        return 2 * 3.14 * self.radius\n",
    "\n",
    "# Create instances of different shapes\n",
    "rectangle = Rectangle(4, 5)\n",
    "circle = Circle(3)\n",
    "\n",
    "# Test abstraction\n",
    "print(f\"Rectangle Area: {rectangle.area()}, Perimeter: {rectangle.perimeter()}\")\n",
    "print(f\"Circle Area: {circle.area()}, Perimeter: {circle.perimeter()}\")\n"
   ]
  }
 ],
 "metadata": {
  "kernelspec": {
   "display_name": "Python 3 (ipykernel)",
   "language": "python",
   "name": "python3"
  },
  "language_info": {
   "codemirror_mode": {
    "name": "ipython",
    "version": 3
   },
   "file_extension": ".py",
   "mimetype": "text/x-python",
   "name": "python",
   "nbconvert_exporter": "python",
   "pygments_lexer": "ipython3",
   "version": "3.11.9"
  }
 },
 "nbformat": 4,
 "nbformat_minor": 5
}
