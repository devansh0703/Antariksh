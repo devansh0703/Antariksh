{
 "cells": [
  {
   "cell_type": "raw",
   "id": "160a0e49-a750-4793-b011-68a4f91c6f1e",
   "metadata": {},
   "source": [
    "Loops\n"
   ]
  },
  {
   "cell_type": "code",
   "execution_count": 1,
   "id": "ec1885de-d5ba-49a4-bb71-af3c5a2f4e13",
   "metadata": {},
   "outputs": [
    {
     "name": "stdout",
     "output_type": "stream",
     "text": [
      "2550\n"
     ]
    }
   ],
   "source": [
    "# Question 1: Write a for loop that calculates the sum of all even numbers between 1 and 100.\n",
    "# Logic: Use a for loop to iterate through the range and check if each number is even using modulo operation.\n",
    "\n",
    "sum_even = 0\n",
    "for num in range(1, 101):\n",
    "    if num % 2 == 0:\n",
    "        sum_even += num\n",
    "print(sum_even)\n"
   ]
  },
  {
   "cell_type": "code",
   "execution_count": 2,
   "id": "e71aaae6-9ef2-444f-95dd-11054b108fd4",
   "metadata": {},
   "outputs": [
    {
     "name": "stdout",
     "output_type": "stream",
     "text": [
      "19\n"
     ]
    }
   ],
   "source": [
    "# Question 2: Write a while loop that finds the smallest integer such that the sum of its digits is 10.\n",
    "# Logic: Use a while loop to iterate through integers and calculate the sum of digits until it equals 10.\n",
    "\n",
    "num = 19\n",
    "while sum(int(digit) for digit in str(num)) != 10:\n",
    "    num += 1\n",
    "print(num)\n"
   ]
  },
  {
   "cell_type": "code",
   "execution_count": 3,
   "id": "474054b3-cc29-450b-b69e-430efe22f434",
   "metadata": {},
   "outputs": [
    {
     "name": "stdout",
     "output_type": "stream",
     "text": [
      "* \n",
      "* * \n",
      "* * * \n",
      "* * * * \n",
      "* * * * * \n"
     ]
    }
   ],
   "source": [
    "# Question 3: Write a for loop that prints a right-angled triangle pattern using asterisks (*).\n",
    "# Logic: Use nested for loops to print rows of increasing asterisks.\n",
    "\n",
    "n = 5\n",
    "for i in range(1, n + 1):\n",
    "    print('* ' * i)\n"
   ]
  },
  {
   "cell_type": "code",
   "execution_count": 4,
   "id": "8925a098-7f91-45c0-ba16-17cf6ea28ee8",
   "metadata": {},
   "outputs": [
    {
     "name": "stdout",
     "output_type": "stream",
     "text": [
      "True\n"
     ]
    }
   ],
   "source": [
    "# Question 4: Write a while loop that checks if a number is a palindrome.\n",
    "# Logic: Convert the number to a string and check if the string reads the same forwards and backwards.\n",
    "\n",
    "num = 12321\n",
    "temp = num\n",
    "reverse_num = 0\n",
    "while temp != 0:\n",
    "    remainder = temp % 10\n",
    "    reverse_num = reverse_num * 10 + remainder\n",
    "    temp //= 10\n",
    "is_palindrome = num == reverse_num\n",
    "print(is_palindrome)\n"
   ]
  },
  {
   "cell_type": "code",
   "execution_count": 5,
   "id": "8b8025d0-11c2-44ea-95bc-ec513ce346eb",
   "metadata": {},
   "outputs": [
    {
     "name": "stdout",
     "output_type": "stream",
     "text": [
      "1\n",
      "1 1\n",
      "1 2 1\n",
      "1 3 3 1\n",
      "1 4 6 4 1\n"
     ]
    }
   ],
   "source": [
    "# Question 5: Write a for loop that generates Pascal's triangle up to n rows.\n",
    "# Logic: Use nested lists to generate Pascal's triangle using the binomial coefficient formula.\n",
    "\n",
    "def generate_pascal_triangle(n):\n",
    "    triangle = []\n",
    "    for row in range(n):\n",
    "        current_row = [1] * (row + 1)\n",
    "        for col in range(1, row):\n",
    "            current_row[col] = triangle[row - 1][col - 1] + triangle[row - 1][col]\n",
    "        triangle.append(current_row)\n",
    "    return triangle\n",
    "\n",
    "n = 5\n",
    "pascal_triangle = generate_pascal_triangle(n)\n",
    "for row in pascal_triangle:\n",
    "    print(' '.join(map(str, row)))\n"
   ]
  },
  {
   "cell_type": "raw",
   "id": "d439b64c-2a6f-44c6-b7e5-b079490887df",
   "metadata": {},
   "source": [
    "Lists"
   ]
  },
  {
   "cell_type": "code",
   "execution_count": 6,
   "id": "17104f15-32c3-400d-9fd5-541fdc116d2c",
   "metadata": {},
   "outputs": [
    {
     "name": "stdout",
     "output_type": "stream",
     "text": [
      "[(2, 4), (7, -1)]\n"
     ]
    }
   ],
   "source": [
    "# Question 1: Write a Python program to find all pairs of elements in a list that sum up to a specific target.\n",
    "# Logic: Use nested loops to check all pairs of elements for their sum.\n",
    "\n",
    "def find_pairs(lst, target):\n",
    "    pairs = []\n",
    "    for i in range(len(lst)):\n",
    "        for j in range(i + 1, len(lst)):\n",
    "            if lst[i] + lst[j] == target:\n",
    "                pairs.append((lst[i], lst[j]))\n",
    "    return pairs\n",
    "\n",
    "my_list = [2, 7, 4, -1, 5, 3]\n",
    "target = 6\n",
    "pairs = find_pairs(my_list, target)\n",
    "print(pairs)\n"
   ]
  },
  {
   "cell_type": "code",
   "execution_count": 7,
   "id": "f2ef4b7d-6f4c-4109-9f26-e33ecd8cacf6",
   "metadata": {},
   "outputs": [
    {
     "name": "stdout",
     "output_type": "stream",
     "text": [
      "[(9, 1), (7, 3), (1, 4), (5, 6)]\n"
     ]
    }
   ],
   "source": [
    "# Question 2: Write a Python program to sort a list of tuples by the second item.\n",
    "# Logic: Use the sorted() function with a custom key to sort tuples based on the second item. Lambda functions overview kiya.\n",
    "\n",
    "my_list = [(1, 4), (9, 1), (5, 6), (7, 3)]\n",
    "sorted_list = sorted(my_list, key=lambda x: x[1])\n",
    "print(sorted_list)\n"
   ]
  },
  {
   "cell_type": "code",
   "execution_count": 8,
   "id": "5847f4e8-fb84-4bd1-abd3-1eba592ee2dd",
   "metadata": {},
   "outputs": [
    {
     "name": "stdout",
     "output_type": "stream",
     "text": [
      "['apple', 'kiwi', 'orange']\n"
     ]
    }
   ],
   "source": [
    "# Question 3: Write a Python program to remove elements from a list of strings containing a specific substring.\n",
    "# Logic: Use list comprehension to filter out strings not containing the specific substring.\n",
    "\n",
    "my_list = ['apple', 'banana', 'kiwi', 'orange']\n",
    "substring = 'na'\n",
    "filtered_list = [item for item in my_list if substring not in item]\n",
    "print(filtered_list)\n"
   ]
  },
  {
   "cell_type": "code",
   "execution_count": 9,
   "id": "13538948-19ec-4ec9-b1f9-62bd84a5cd44",
   "metadata": {},
   "outputs": [
    {
     "name": "stdout",
     "output_type": "stream",
     "text": [
      "[2, 4, 5, 1, 3]\n"
     ]
    }
   ],
   "source": [
    "# Question 4: Write a Python program to shuffle a list randomly.\n",
    "# Logic: Use the shuffle() function from the random module to shuffle the list in-place.\n",
    "\n",
    "from random import shuffle\n",
    "\n",
    "my_list = [1, 2, 3, 4, 5]\n",
    "shuffle(my_list)\n",
    "print(my_list)\n"
   ]
  },
  {
   "cell_type": "code",
   "execution_count": 10,
   "id": "d00a3ed9-1284-4a48-9a64-225b96e1e087",
   "metadata": {},
   "outputs": [
    {
     "name": "stdout",
     "output_type": "stream",
     "text": [
      "[1, 2, 3, 4, 5, 6, 7, 8]\n"
     ]
    }
   ],
   "source": [
    "# Question 5: Write a Python program to merge two sorted lists into one sorted list.\n",
    "# Logic: Use two pointers to iterate through both lists and append elements in sorted order to a new list. (Took it from Striver's)\n",
    "\n",
    "def merge_sorted_lists(lst1, lst2):\n",
    "    merged_list = []\n",
    "    i = j = 0\n",
    "    while i < len(lst1) and j < len(lst2):\n",
    "        if lst1[i] < lst2[j]:\n",
    "            merged_list.append(lst1[i])\n",
    "            i += 1\n",
    "        else:\n",
    "            merged_list.append(lst2[j])\n",
    "            j += 1\n",
    "    merged_list.extend(lst1[i:])\n",
    "    merged_list.extend(lst2[j:])\n",
    "    return merged_list\n",
    "\n",
    "list1 = [1, 3, 5, 7]\n",
    "list2 = [2, 4, 6, 8]\n",
    "merged_list = merge_sorted_lists(list1, list2)\n",
    "print(merged_list)\n"
   ]
  },
  {
   "cell_type": "raw",
   "id": "606b76f0-94a0-4ba0-980e-0e07a6f72741",
   "metadata": {},
   "source": [
    "Tuples"
   ]
  },
  {
   "cell_type": "code",
   "execution_count": 15,
   "id": "ba913660-6533-4cc8-b3d7-5833470ab117",
   "metadata": {},
   "outputs": [
    {
     "name": "stdout",
     "output_type": "stream",
     "text": [
      "4\n"
     ]
    }
   ],
   "source": [
    "# Question 1: Write a Python program to count the occurrences of an element in a tuple.\n",
    "# Logic: Use the count() method of tuple to count occurrences of an element.\n",
    "\n",
    "my_tuple = (1, 2, 3, 4, 2, 2, 3, 1, 4, 2)\n",
    "count = my_tuple.count(2)\n",
    "print(count)\n"
   ]
  },
  {
   "cell_type": "code",
   "execution_count": 16,
   "id": "3f71fedb-f49c-4d54-9f72-a726d52fd96c",
   "metadata": {},
   "outputs": [
    {
     "name": "stdout",
     "output_type": "stream",
     "text": [
      "Max: 7, Min: 1\n"
     ]
    }
   ],
   "source": [
    "# Question 2: Write a Python program to find the maximum and minimum elements in a tuple.\n",
    "# Logic: Use the max() and min() functions to find the maximum and minimum elements.\n",
    "\n",
    "my_tuple = (5, 2, 7, 1, 4)\n",
    "max_element = max(my_tuple)\n",
    "min_element = min(my_tuple)\n",
    "print(f\"Max: {max_element}, Min: {min_element}\")\n"
   ]
  },
  {
   "cell_type": "code",
   "execution_count": 17,
   "id": "4a46e000-7551-45e2-abe0-5e88d710bd68",
   "metadata": {},
   "outputs": [
    {
     "name": "stdout",
     "output_type": "stream",
     "text": [
      "(1, 2, 3, 4, 5, 6)\n"
     ]
    }
   ],
   "source": [
    "# Question 3: Write a Python program to concatenate multiple tuples.\n",
    "# Logic: Use the + operator to concatenate tuples.\n",
    "\n",
    "tuple1 = (1, 2)\n",
    "tuple2 = (3, 4)\n",
    "tuple3 = (5, 6)\n",
    "concatenated_tuple = tuple1 + tuple2 + tuple3\n",
    "print(concatenated_tuple)\n"
   ]
  },
  {
   "cell_type": "code",
   "execution_count": 18,
   "id": "8535972d-66a8-440d-80ca-b9e13b90ad1b",
   "metadata": {},
   "outputs": [
    {
     "name": "stdout",
     "output_type": "stream",
     "text": [
      "Devansh\n"
     ]
    }
   ],
   "source": [
    "# Question 4: Write a Python program to convert a tuple to a string.\n",
    "# Logic: Use the join() method to convert tuple elements to a string.\n",
    "\n",
    "my_tuple = ('D', 'e', 'v', 'a', 'n', 's', 'h')\n",
    "str_from_tuple = ''.join(my_tuple)\n",
    "print(str_from_tuple)\n"
   ]
  },
  {
   "cell_type": "code",
   "execution_count": 19,
   "id": "6f8ce132-c153-466b-8f46-2f0fb0e6dc33",
   "metadata": {},
   "outputs": [
    {
     "name": "stdout",
     "output_type": "stream",
     "text": [
      "('d', 'e', 'v', 'a', 'n', 's', 'h')\n"
     ]
    }
   ],
   "source": [
    "# Question 5: Write a Python program to remove an item from a tuple.\n",
    "# Logic: Convert the tuple to a list, remove the item, and convert back to a tuple.\n",
    "\n",
    "my_tuple = ('d', 'e', 'c', 'v', 'a', 'n', 's', 'h')\n",
    "temp_list = list(my_tuple)\n",
    "temp_list.remove('c')\n",
    "updated_tuple = tuple(temp_list)\n",
    "print(updated_tuple)\n"
   ]
  },
  {
   "cell_type": "markdown",
   "id": "27dc6c71-9ffa-4be2-8c17-516f6b044e8c",
   "metadata": {},
   "source": [
    "Sets"
   ]
  },
  {
   "cell_type": "code",
   "execution_count": 20,
   "id": "5758ad6d-f86f-4ca1-b59a-f4c9b1c2965a",
   "metadata": {},
   "outputs": [
    {
     "name": "stdout",
     "output_type": "stream",
     "text": [
      "{3, 4, 5}\n"
     ]
    }
   ],
   "source": [
    "# Question 1: Write a Python program to find the intersection of two sets.\n",
    "# Logic: Use the intersection() method to find common elements between two sets.\n",
    "\n",
    "set1 = {1, 2, 3, 4, 5}\n",
    "set2 = {3, 4, 5, 6, 7}\n",
    "intersection_set = set1.intersection(set2)\n",
    "print(intersection_set)\n"
   ]
  },
  {
   "cell_type": "code",
   "execution_count": 21,
   "id": "68e6d275-d916-4500-b53f-f4c5d3f0b641",
   "metadata": {},
   "outputs": [
    {
     "name": "stdout",
     "output_type": "stream",
     "text": [
      "{1, 2}\n"
     ]
    }
   ],
   "source": [
    "# Question 2: Write a Python program to find the difference between two sets.\n",
    "# Logic: Use the difference() method to find elements in set1 that are not in set2.\n",
    "\n",
    "set1 = {1, 2, 3, 4}\n",
    "set2 = {3, 4, 5, 6}\n",
    "difference_set = set1.difference(set2)\n",
    "print(difference_set)\n"
   ]
  },
  {
   "cell_type": "code",
   "execution_count": 22,
   "id": "dedf1ed6-f9c6-4060-982f-87572145fead",
   "metadata": {},
   "outputs": [
    {
     "name": "stdout",
     "output_type": "stream",
     "text": [
      "True\n"
     ]
    }
   ],
   "source": [
    "# Question 3: Write a Python program to check if two sets are disjoint.\n",
    "# Logic: Use the isdisjoint() method to check if there are no common elements between two sets.\n",
    "\n",
    "set1 = {1, 2, 3}\n",
    "set2 = {4, 5, 6}\n",
    "disjoint = set1.isdisjoint(set2)\n",
    "print(disjoint)\n"
   ]
  },
  {
   "cell_type": "code",
   "execution_count": 23,
   "id": "26f359f3-7c4e-48c7-ba29-1476de98ea52",
   "metadata": {},
   "outputs": [
    {
     "name": "stdout",
     "output_type": "stream",
     "text": [
      "{1, 2, 3}\n"
     ]
    }
   ],
   "source": [
    "# Question 4: Write a Python program to remove the intersection of a 2nd set from the 1st set.\n",
    "# Logic: Use the difference_update() method to remove elements in set2 from set1.\n",
    "\n",
    "set1 = {1, 2, 3, 4, 5}\n",
    "set2 = {4, 5, 6, 7}\n",
    "set1.difference_update(set2)\n",
    "print(set1)\n"
   ]
  },
  {
   "cell_type": "code",
   "execution_count": 24,
   "id": "2d9f085e-bd88-4019-b873-b710f5988c70",
   "metadata": {},
   "outputs": [
    {
     "name": "stdout",
     "output_type": "stream",
     "text": [
      "{1, 2, 5, 6}\n"
     ]
    }
   ],
   "source": [
    "# Question 5: Write a Python program to find the symmetric difference between two sets.\n",
    "# Logic: Use the symmetric_difference() method to find elements that are in either of the sets but not in both.\n",
    "\n",
    "set1 = {1, 2, 3, 4}\n",
    "set2 = {3, 4, 5, 6}\n",
    "symmetric_difference_set = set1.symmetric_difference(set2)\n",
    "print(symmetric_difference_set)\n"
   ]
  },
  {
   "cell_type": "markdown",
   "id": "4cdff3fe-ae51-45eb-ad20-a2401761e441",
   "metadata": {},
   "source": [
    "#Dictionaries"
   ]
  },
  {
   "cell_type": "code",
   "execution_count": 25,
   "id": "bb8bd209-a47a-4e38-a2b7-d560c297f5b6",
   "metadata": {},
   "outputs": [
    {
     "name": "stdout",
     "output_type": "stream",
     "text": [
      "{'a': 1, 'b': 2, 'c': 3, 'd': 4}\n"
     ]
    }
   ],
   "source": [
    "# Question 1: Write a Python program to merge two dictionaries.\n",
    "# Logic: Use the update() method to merge one dictionary into another.\n",
    "\n",
    "dict1 = {'a': 1, 'b': 2}\n",
    "dict2 = {'c': 3, 'd': 4}\n",
    "dict1.update(dict2)\n",
    "print(dict1)\n"
   ]
  },
  {
   "cell_type": "code",
   "execution_count": 26,
   "id": "e8c0f90a-eef7-4b68-beb6-4d9316834f2b",
   "metadata": {},
   "outputs": [
    {
     "name": "stdout",
     "output_type": "stream",
     "text": [
      "{'a': 1, 'b': 2, 'c': 3, 'd': 4}\n"
     ]
    }
   ],
   "source": [
    "# Question 2: Write a Python program to sort a dictionary by key.\n",
    "# Logic: Use the sorted() function with a custom key to sort dictionary items by keys.\n",
    "\n",
    "my_dict = {'b': 2, 'a': 1, 'd': 4, 'c': 3}\n",
    "sorted_dict = {k: my_dict[k] for k in sorted(my_dict)}\n",
    "print(sorted_dict)\n"
   ]
  },
  {
   "cell_type": "code",
   "execution_count": 27,
   "id": "59035871-ad91-4e88-8f42-cb2561f5b4df",
   "metadata": {},
   "outputs": [
    {
     "name": "stdout",
     "output_type": "stream",
     "text": [
      "{1: 1, 2: 2, 3: 3, 4: 4}\n"
     ]
    }
   ],
   "source": [
    "# Question 3: Write a Python program to find the frequency of each element in a list and store it in a dictionary.\n",
    "# Logic: Use a dictionary to count occurrences of each element in the list.\n",
    "\n",
    "my_list = [1, 2, 2, 3, 3, 3, 4, 4, 4, 4]\n",
    "freq_dict = {}\n",
    "for item in my_list:\n",
    "    freq_dict[item] = freq_dict.get(item, 0) + 1\n",
    "print(freq_dict)\n"
   ]
  },
  {
   "cell_type": "code",
   "execution_count": 28,
   "id": "e007a55e-7a25-44b4-b2ab-8f216e1c9de4",
   "metadata": {},
   "outputs": [
    {
     "name": "stdout",
     "output_type": "stream",
     "text": [
      "{'a': 1, 'c': 3}\n"
     ]
    }
   ],
   "source": [
    "# Question 4: Write a Python program to remove a key from a dictionary.\n",
    "# Logic: Use the del statement to remove a key from the dictionary.\n",
    "\n",
    "my_dict = {'a': 1, 'b': 2, 'c': 3}\n",
    "del my_dict['b']\n",
    "print(my_dict)\n"
   ]
  },
  {
   "cell_type": "code",
   "execution_count": 29,
   "id": "86d9b79a-7648-43c3-9e24-93f40de2957e",
   "metadata": {},
   "outputs": [
    {
     "name": "stdout",
     "output_type": "stream",
     "text": [
      "True\n"
     ]
    }
   ],
   "source": [
    "# Question 5: Write a Python program to check if a given key already exists in a dictionary.\n",
    "# Logic: Use the in operator to check if a key exists in the dictionary.\n",
    "\n",
    "my_dict = {'a': 1, 'b': 2, 'c': 3}\n",
    "key = 'b'\n",
    "key_exists = key in my_dict\n",
    "print(key_exists)\n"
   ]
  },
  {
   "cell_type": "code",
   "execution_count": null,
   "id": "c72c08ae-17b1-4aec-8507-6c4f1f8e1e9c",
   "metadata": {},
   "outputs": [],
   "source": []
  }
 ],
 "metadata": {
  "kernelspec": {
   "display_name": "Python 3 (ipykernel)",
   "language": "python",
   "name": "python3"
  },
  "language_info": {
   "codemirror_mode": {
    "name": "ipython",
    "version": 3
   },
   "file_extension": ".py",
   "mimetype": "text/x-python",
   "name": "python",
   "nbconvert_exporter": "python",
   "pygments_lexer": "ipython3",
   "version": "3.11.9"
  }
 },
 "nbformat": 4,
 "nbformat_minor": 5
}
